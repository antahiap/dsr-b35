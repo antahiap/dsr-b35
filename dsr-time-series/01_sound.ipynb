{
 "cells": [
  {
   "cell_type": "code",
   "execution_count": 1,
   "metadata": {},
   "outputs": [],
   "source": [
    "import matplotlib.pyplot as plt\n",
    "import numpy as np\n",
    "from IPython.display import display, Audio"
   ]
  },
  {
   "cell_type": "code",
   "execution_count": 3,
   "metadata": {},
   "outputs": [],
   "source": [
    "sample_rate = 41000 #Hz\n",
    "def generate_sine_wave(frequeny, amplitude, phase, duration):\n",
    "    num_samples = int(duration * sample_rate)\n",
    "\n",
    "\n",
    "    return(waveform)\n",
    "\n",
    "def plot_waveform(waveform):\n",
    "    plt.plot(waveform[:400])\n",
    "    plt.show()\n",
    "\n",
    "def play_waveform(wavefrom):\n",
    "    display(waveform, sample_rate = sample_rate)"
   ]
  },
  {
   "cell_type": "code",
   "execution_count": 4,
   "metadata": {},
   "outputs": [
    {
     "ename": "TypeError",
     "evalue": "'NoneType' object is not subscriptable",
     "output_type": "error",
     "traceback": [
      "\u001b[0;31m---------------------------------------------------------------------------\u001b[0m",
      "\u001b[0;31mTypeError\u001b[0m                                 Traceback (most recent call last)",
      "Cell \u001b[0;32mIn[4], line 2\u001b[0m\n\u001b[1;32m      1\u001b[0m waveform \u001b[39m=\u001b[39m generate_sine_wave(\u001b[39m261.63\u001b[39m,\u001b[39m1\u001b[39m,\u001b[39m0\u001b[39m, \u001b[39m1\u001b[39m)\n\u001b[0;32m----> 2\u001b[0m plot_waveform(waveform)\n\u001b[1;32m      3\u001b[0m play_waveform(waveform)\n",
      "Cell \u001b[0;32mIn[3], line 7\u001b[0m, in \u001b[0;36mplot_waveform\u001b[0;34m(waveform)\u001b[0m\n\u001b[1;32m      6\u001b[0m \u001b[39mdef\u001b[39;00m \u001b[39mplot_waveform\u001b[39m(waveform):\n\u001b[0;32m----> 7\u001b[0m     plt\u001b[39m.\u001b[39mplot(waveform[:\u001b[39m400\u001b[39;49m])\n\u001b[1;32m      8\u001b[0m     plt\u001b[39m.\u001b[39mshow()\n",
      "\u001b[0;31mTypeError\u001b[0m: 'NoneType' object is not subscriptable"
     ]
    }
   ],
   "source": [
    "waveform = generate_sine_wave(261.63,1,0, 1)\n",
    "plot_waveform(waveform)\n",
    "play_waveform(waveform)"
   ]
  }
 ],
 "metadata": {
  "kernelspec": {
   "display_name": "Python 3",
   "language": "python",
   "name": "python3"
  },
  "language_info": {
   "codemirror_mode": {
    "name": "ipython",
    "version": 3
   },
   "file_extension": ".py",
   "mimetype": "text/x-python",
   "name": "python",
   "nbconvert_exporter": "python",
   "pygments_lexer": "ipython3",
   "version": "3.10.8"
  },
  "orig_nbformat": 4
 },
 "nbformat": 4,
 "nbformat_minor": 2
}
