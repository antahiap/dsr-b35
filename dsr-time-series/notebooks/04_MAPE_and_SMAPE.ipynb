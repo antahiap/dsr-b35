{
  "nbformat": 4,
  "nbformat_minor": 0,
  "metadata": {
    "colab": {
      "provenance": [],
      "toc_visible": true,
      "include_colab_link": true
    },
    "kernelspec": {
      "name": "python3",
      "display_name": "Python 3"
    },
    "language_info": {
      "name": "python"
    }
  },
  "cells": [
    {
      "cell_type": "markdown",
      "metadata": {
        "id": "view-in-github",
        "colab_type": "text"
      },
      "source": [
        "<a href=\"https://colab.research.google.com/github/antahiap/dsr-b35/blob/main/dsr-time-series/notebooks/04_MAPE_and_SMAPE.ipynb\" target=\"_parent\"><img src=\"https://colab.research.google.com/assets/colab-badge.svg\" alt=\"Open In Colab\"/></a>"
      ]
    },
    {
      "cell_type": "markdown",
      "source": [
        "# Metrics for Time Series Forecasting - MAPE and SMAPE"
      ],
      "metadata": {
        "id": "IVctCMFUiNly"
      }
    },
    {
      "cell_type": "markdown",
      "source": [
        "### What is MAPE?\n",
        "\n",
        "Mean Absolute Percentage Error (MAPE) is a metric used to evaluate the accuracy of a forecasting model. MAPE provides a percentage-based scale to measure the error between actual and forecasted values. However, MAPE is not symmetric, meaning it can be biased towards underestimates or overestimates.\n",
        "\n",
        "The formula for calculating MAPE is:\n",
        "\n",
        "$$\n",
        "\\text{MAPE} = \\frac{100}{N} \\sum_{t=1}^{N} \\frac{\\left| A_t - F_t \\right|}{\\left| A_t \\right|}\n",
        "$$\n",
        "\n",
        "Here:\n",
        "- $ A_t $ is the actual value at time $ t $\n",
        "- $ F_t $ is the forecasted value at time $ t $\n",
        "- $ N $ is the number of data points\n",
        "\n",
        "### Examples\n",
        "\n",
        "Let's consider the same two example scenarios:\n",
        "\n",
        "1. **Scenario 1**: The actual values are $[100, 200, 300, 400]$ and the forecasted values are $[110, 190, 290, 410]$.\n",
        "2. **Scenario 2**: The actual values are $[10, 20, 30, 40]$ and the forecasted values are $[11, 19, 29, 41]$.\n",
        "\n",
        "#### Scenario 1 Calculation\n",
        "\n",
        "For the first data point:\n",
        "\n",
        "$$\n",
        "\\frac{\\left| 100 - 110 \\right|}{\\left| 100 \\right|} = \\frac{10}{100} = 0.1\n",
        "$$\n",
        "\n",
        "Similarly, we calculate for other data points and then take the mean.\n",
        "\n",
        "#### Scenario 2 Calculation\n",
        "\n",
        "For the first data point:\n",
        "\n",
        "$$\n",
        "\\frac{\\left| 10 - 11 \\right|}{\\left| 10 \\right|} = \\frac{1}{10} = 0.1\n",
        "$$\n",
        "\n",
        "Again, we calculate for other data points and then take the mean.\n",
        "\n",
        "### Code Example\n",
        "\n",
        "Here is a Python code snippet to calculate MAPE:"
      ],
      "metadata": {
        "id": "IJFfM06ihPVF"
      }
    },
    {
      "cell_type": "code",
      "source": [
        "import numpy as np\n",
        "\n",
        "def mape(actual, forecast):\n",
        "    # Ensure the arrays have the same length\n",
        "    assert len(actual) == len(forecast), \"Length of actual and forecast arrays should be the same\"\n",
        "\n",
        "    # Avoid division by zero by replacing zeros in the 'actual' array with a small number\n",
        "    actual = np.where(actual == 0, 1e-10, actual)\n",
        "\n",
        "    # Calculate MAPE for each data point\n",
        "    mape_values = np.abs((actual - forecast) / actual)\n",
        "\n",
        "    # Calculate the mean MAPE value\n",
        "    mean_mape = np.mean(mape_values) * 100  # Multiply by 100 to get percentage\n",
        "\n",
        "    return mean_mape\n",
        "\n",
        "# Scenario 1\n",
        "actual_1 = np.array([0, 200, 300, 400])\n",
        "forecast_1 = np.array([0, 190, 290, 410])\n",
        "mape_1 = mape(actual_1, forecast_1)\n",
        "\n",
        "# Scenario 2\n",
        "actual_2 = np.array([0, 20, 30, 40])\n",
        "forecast_2 = np.array([0, 19, 29, 41])\n",
        "mape_2 = mape(actual_2, forecast_2)\n",
        "\n",
        "mape_1, mape_2\n"
      ],
      "metadata": {
        "id": "1gtlk87_6gFA",
        "colab": {
          "base_uri": "https://localhost:8080/"
        },
        "outputId": "e98b51cb-7c6e-4616-e9b0-ed260b984e5c"
      },
      "execution_count": null,
      "outputs": [
        {
          "output_type": "execute_result",
          "data": {
            "text/plain": [
              "(27.708333333333336, 27.708333333333336)"
            ]
          },
          "metadata": {},
          "execution_count": 7
        }
      ]
    },
    {
      "cell_type": "markdown",
      "source": [
        "### What is SMAPE?\n",
        "\n",
        "Symmetric Mean Absolute Percentage Error (SMAPE) is a metric used to evaluate the accuracy of a forecasting method. Unlike Mean Absolute Error (MAE) or Mean Squared Error (MSE), SMAPE takes into account the relative error between the predicted and the actual values. SMAPE is symmetric, meaning it treats over-forecasting and under-forecasting equally. This is in contrast to MAPE (Mean Absolute Percentage Error), which is not symmetric and can be biased toward underestimates.\n",
        "\n",
        "The formula for calculating SMAPE is:\n",
        "\n",
        "$$\n",
        "\\text{SMAPE} = \\frac{100}{N} \\sum_{t=1}^{N} \\frac{\\left| A_t - F_t \\right|}{\\frac{\\left| A_t \\right| + \\left| F_t \\right|}{2}}\n",
        "$$\n",
        "\n",
        "Here:\n",
        "- $ A_t $ is the actual value at time $ t $\n",
        "- $ F_t $ is the forecasted value at time $ t $\n",
        "- $ N $ is the number of data points\n",
        "\n",
        "### Examples\n",
        "\n",
        "Let's consider two example scenarios:\n",
        "\n",
        "1. **Scenario 1**: The actual values are $[100, 200, 300, 400]$ and the forecasted values are $[110, 190, 290, 410]$.\n",
        "2. **Scenario 2**: The actual values are $[10, 20, 30, 40]$ and the forecasted values are $[11, 19, 29, 41]$.\n",
        "\n",
        "#### Scenario 1 Calculation\n",
        "\n",
        "For the first data point:\n",
        "\n",
        "$$\n",
        "\\frac{\\left| 100 - 110 \\right|}{\\frac{\\left| 100 \\right| + \\left| 110 \\right|}{2}} = \\frac{10}{105} \\approx 0.0952\n",
        "$$\n",
        "\n",
        "Similarly, we calculate for other data points and then take the mean.\n",
        "\n",
        "#### Scenario 2 Calculation\n",
        "\n",
        "For the first data point:\n",
        "\n",
        "$$\n",
        "\\frac{\\left| 10 - 11 \\right|}{\\frac{\\left| 10 \\right| + \\left| 11 \\right|}{2}} = \\frac{1}{10.5} \\approx 0.0952\n",
        "$$\n",
        "\n",
        "Again, we calculate for other data points and then take the mean.\n",
        "\n",
        "### Code Example\n",
        "\n",
        "Here is a Python code snippet to calculate SMAPE:\n",
        "\n"
      ],
      "metadata": {
        "id": "rjpuCt02hIpr"
      }
    },
    {
      "cell_type": "code",
      "source": [
        "\n",
        "import numpy as np\n",
        "\n",
        "def smape(actual, forecast):\n",
        "    # Ensure the arrays have the same length\n",
        "    assert len(actual) == len(forecast), \"Length of actual and forecast arrays should be the same\"\n",
        "\n",
        "    # Calculate SMAPE for each data point\n",
        "    smape_values = 2 * np.abs(actual - forecast) / (np.abs(actual) + np.abs(forecast))\n",
        "\n",
        "    # Calculate the mean SMAPE value\n",
        "    mean_smape = np.mean(smape_values) * 100  # Multiply by 100 to get percentage\n",
        "\n",
        "    return mean_smape\n",
        "\n",
        "# Scenario 1\n",
        "actual_1 = np.array([0, 200, 300, 400])\n",
        "forecast_1 = np.array([110, 190, 290, 410])\n",
        "smape_1 = smape(actual_1, forecast_1)\n",
        "\n",
        "# Scenario 2\n",
        "actual_2 = np.array([0, 20, 30, 40])\n",
        "forecast_2 = np.array([11, 19, 29, 41])\n",
        "smape_2 = smape(actual_2, forecast_2)\n",
        "\n",
        "smape_1, smape_2\n",
        "\n"
      ],
      "metadata": {
        "id": "jVtTqFiX6pM3",
        "colab": {
          "base_uri": "https://localhost:8080/"
        },
        "outputId": "5d09a851-691f-4c5e-b7a3-ef2030822c53"
      },
      "execution_count": null,
      "outputs": [
        {
          "output_type": "execute_result",
          "data": {
            "text/plain": [
              "(52.746792859787206, 52.746792859787206)"
            ]
          },
          "metadata": {},
          "execution_count": 8
        }
      ]
    },
    {
      "cell_type": "markdown",
      "source": [
        "### Exercise: Compute MAPE and SMAPE on a Dataset and Compare\n",
        "\n",
        "#### Objective:\n",
        "\n",
        "Your task is to compute both the MAPE (Mean Absolute Percentage Error) and SMAPE (Symmetric Mean Absolute Percentage Error) on a given dataset. After calculating these metrics, you should provide a comparison and discuss the advantages and disadvantages of each in the context of the dataset.\n",
        "\n",
        "#### Dataset:\n",
        "\n",
        "Consider the following time series data for actual sales and forecasted sales (in units) for a retail store:\n",
        "\n",
        "| Week  | Actual Sales | Forecasted Sales |\n",
        "|-------|-------------|------------------|\n",
        "| 1     | 120         | 130              |\n",
        "| 2     | 135         | 128              |\n",
        "| 3     | 140         | 142              |\n",
        "| 4     | 130         | 127              |\n",
        "| 5     | 125         | 123              |\n",
        "\n",
        "#### Steps:\n",
        "\n",
        "1. Write a Python function to calculate MAPE.\n",
        "2. Write a Python function to calculate SMAPE.\n",
        "3. Compute MAPE and SMAPE for the given dataset.\n",
        "4. Compare the values of MAPE and SMAPE. Discuss the implications of using each metric for this dataset.\n",
        "\n",
        "#### Tips:\n",
        "\n",
        "- Pay attention to edge cases like division by zero.\n",
        "- Think about the scale of the actual and forecasted values and how that might affect MAPE and SMAPE.\n",
        "  \n",
        "#### Deliverables:\n",
        "\n",
        "- Python code for calculating MAPE and SMAPE.\n",
        "- Computed MAPE and SMAPE values for the dataset.\n",
        "- A comparison and discussion of the two metrics.\n",
        "\n",
        "#### Sample Code Skeleton:\n",
        "\n",
        "Here's some sample code to get you started:\n",
        "\n",
        "```python\n",
        "import numpy as np\n",
        "\n",
        "# Function to calculate MAPE\n",
        "def mape(actual, forecast):\n",
        "    # Your code here\n",
        "    pass\n",
        "\n",
        "# Function to calculate SMAPE\n",
        "def smape(actual, forecast):\n",
        "    # Your code here\n",
        "    pass\n",
        "\n",
        "# Given dataset\n",
        "actual_sales = np.array([120, 135, 140, 130, 125])\n",
        "forecasted_sales = np.array([130, 128, 142, 127, 123])\n",
        "\n",
        "# Compute MAPE and SMAPE\n",
        "mape_value = mape(actual_sales, forecasted_sales)\n",
        "smape_value = smape(actual_sales, forecasted_sales)\n",
        "\n",
        "# Output the computed values\n",
        "print(f\"MAPE: {mape_value}\")\n",
        "print(f\"SMAPE: {smape_value}\")\n",
        "\n",
        "# Your discussion and comparison here\n",
        "```\n",
        "\n",
        "Feel free to complete this exercise and share your thoughts on the comparison between MAPE and SMAPE for this dataset."
      ],
      "metadata": {
        "id": "2WwUuBDhiRfn"
      }
    },
    {
      "cell_type": "markdown",
      "source": [
        "### Solution to the Exercise\n",
        "\n",
        "#### Python Code for Calculating MAPE and SMAPE:\n",
        "\n",
        "```python\n",
        "import numpy as np\n",
        "\n",
        "# Function to calculate MAPE\n",
        "def mape(actual, forecast):\n",
        "    assert len(actual) == len(forecast), \"Length of actual and forecast arrays should be the same\"\n",
        "    actual = np.where(actual == 0, 1e-10, actual)\n",
        "    mape_values = np.abs((actual - forecast) / actual)\n",
        "    mean_mape = np.mean(mape_values) * 100\n",
        "    return mean_mape\n",
        "\n",
        "# Function to calculate SMAPE\n",
        "def smape(actual, forecast):\n",
        "    assert len(actual) == len(forecast), \"Length of actual and forecast arrays should be the same\"\n",
        "    smape_values = 2 * np.abs(actual - forecast) / (np.abs(actual) + np.abs(forecast))\n",
        "    mean_smape = np.mean(smape_values) * 100\n",
        "    return mean_smape\n",
        "\n",
        "# Given dataset\n",
        "actual_sales = np.array([120, 135, 140, 130, 125])\n",
        "forecasted_sales = np.array([130, 128, 142, 127, 123])\n",
        "\n",
        "# Compute MAPE and SMAPE\n",
        "mape_value = mape(actual_sales, forecasted_sales)\n",
        "smape_value = smape(actual_sales, forecasted_sales)\n",
        "\n",
        "# Output the computed values\n",
        "print(f\"MAPE: {mape_value}\")\n",
        "print(f\"SMAPE: {smape_value}\")\n",
        "```\n",
        "\n",
        "#### Computed MAPE and SMAPE Values:\n",
        "\n",
        "- MAPE: \\(3.77\\%\\)\n",
        "- SMAPE: \\(3.74\\%\\)\n",
        "\n",
        "#### Comparison and Discussion:\n",
        "\n",
        "1. **Similarity in Values**: Both MAPE and SMAPE values are quite similar for this dataset. This indicates that the forecast errors are fairly symmetric around the actual values.\n",
        "\n",
        "2. **Scale Sensitivity**: MAPE can be sensitive to the scale of the actual values. In scenarios where the actual values are closer to zero, MAPE can be highly skewed. SMAPE is relatively less sensitive to the scale of the actual values.\n",
        "\n",
        "3. **Symmetry**: SMAPE treats over-forecasting and under-forecasting symmetrically, which is an advantage if both types of errors are equally important for your application. MAPE can be biased and is not symmetric.\n",
        "\n",
        "4. **Interpretability**: Both metrics are easy to interpret as they provide percentage errors. However, MAPE can become undefined or extremely large when the actual values approach zero, whereas SMAPE avoids this issue.\n",
        "\n",
        "In summary, the choice between MAPE and SMAPE would depend on the specific requirements of your forecasting task. If you want a symmetric measure and are concerned about the scale of your actual values, SMAPE could be a better choice. On the other hand, if you are more concerned with absolute percentage errors, then MAPE would be more appropriate."
      ],
      "metadata": {
        "id": "-egR6rS8ikgg"
      }
    },
    {
      "cell_type": "code",
      "source": [
        "# Importing numpy library for numerical operations\n",
        "import numpy as np\n",
        "\n",
        "# Function to calculate MAPE (Mean Absolute Percentage Error)\n",
        "def mape(actual, forecast):\n",
        "    # Ensure the arrays have the same length\n",
        "    assert len(actual) == len(forecast), \"Length of actual and forecast arrays should be the same\"\n",
        "\n",
        "    # Avoid division by zero by replacing zeros in the 'actual' array with a small number\n",
        "    actual = np.where(actual == 0, 1e-10, actual)\n",
        "\n",
        "    # Calculate MAPE for each data point\n",
        "    mape_values = np.abs((actual - forecast) / actual)\n",
        "\n",
        "    # Calculate the mean MAPE value\n",
        "    mean_mape = np.mean(mape_values) * 100  # Multiply by 100 to get percentage\n",
        "\n",
        "    return mean_mape\n",
        "\n",
        "# Function to calculate SMAPE (Symmetric Mean Absolute Percentage Error)\n",
        "def smape(actual, forecast):\n",
        "    # Ensure the arrays have the same length\n",
        "    assert len(actual) == len(forecast), \"Length of actual and forecast arrays should be the same\"\n",
        "\n",
        "    # Calculate SMAPE for each data point\n",
        "    smape_values = 2 * np.abs(actual - forecast) / (np.abs(actual) + np.abs(forecast))\n",
        "\n",
        "    # Calculate the mean SMAPE value\n",
        "    mean_smape = np.mean(smape_values) * 100  # Multiply by 100 to get percentage\n",
        "\n",
        "    return mean_smape\n",
        "\n",
        "# Given dataset for actual and forecasted sales\n",
        "actual_sales = np.array([120, 135, 140, 130, 125])\n",
        "forecasted_sales = np.array([130, 128, 142, 127, 123])\n",
        "\n",
        "# Compute MAPE and SMAPE values for the dataset\n",
        "mape_value = mape(actual_sales, forecasted_sales)\n",
        "smape_value = smape(actual_sales, forecasted_sales)\n",
        "\n",
        "mape_value, smape_value\n"
      ],
      "metadata": {
        "colab": {
          "base_uri": "https://localhost:8080/"
        },
        "id": "rsst7bFGilcv",
        "outputId": "99925fe8-5cb0-4846-f0ae-a24523bcd5f0"
      },
      "execution_count": null,
      "outputs": [
        {
          "output_type": "execute_result",
          "data": {
            "text/plain": [
              "(3.770956450956451, 3.7378334417325743)"
            ]
          },
          "metadata": {},
          "execution_count": 9
        }
      ]
    },
    {
      "cell_type": "code",
      "source": [],
      "metadata": {
        "id": "_KDNwBv_ioqL"
      },
      "execution_count": null,
      "outputs": []
    }
  ]
}